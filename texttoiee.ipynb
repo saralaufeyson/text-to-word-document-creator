{
 "cells": [
  {
   "cell_type": "code",
   "execution_count": 1,
   "metadata": {},
   "outputs": [
    {
     "name": "stdout",
     "output_type": "stream",
     "text": [
      "Collecting python-docx\n",
      "  Downloading python_docx-1.1.2-py3-none-any.whl.metadata (2.0 kB)\n",
      "Collecting lxml>=3.1.0 (from python-docx)\n",
      "  Downloading lxml-5.2.2-cp311-cp311-win_amd64.whl.metadata (3.5 kB)\n",
      "Collecting typing-extensions>=4.9.0 (from python-docx)\n",
      "  Downloading typing_extensions-4.12.2-py3-none-any.whl.metadata (3.0 kB)\n",
      "Downloading python_docx-1.1.2-py3-none-any.whl (244 kB)\n",
      "   ---------------------------------------- 0.0/244.3 kB ? eta -:--:--\n",
      "   - -------------------------------------- 10.2/244.3 kB ? eta -:--:--\n",
      "   - -------------------------------------- 10.2/244.3 kB ? eta -:--:--\n",
      "   ------ -------------------------------- 41.0/244.3 kB 326.8 kB/s eta 0:00:01\n",
      "   ------------- ------------------------- 81.9/244.3 kB 573.4 kB/s eta 0:00:01\n",
      "   ---------------------- --------------- 143.4/244.3 kB 708.1 kB/s eta 0:00:01\n",
      "   ----------------------------------- -- 225.3/244.3 kB 981.9 kB/s eta 0:00:01\n",
      "   -------------------------------------- 244.3/244.3 kB 880.0 kB/s eta 0:00:00\n",
      "Downloading lxml-5.2.2-cp311-cp311-win_amd64.whl (3.8 MB)\n",
      "   ---------------------------------------- 0.0/3.8 MB ? eta -:--:--\n",
      "   -- ------------------------------------- 0.2/3.8 MB 7.6 MB/s eta 0:00:01\n",
      "   --- ------------------------------------ 0.3/3.8 MB 3.5 MB/s eta 0:00:01\n",
      "   ------ --------------------------------- 0.6/3.8 MB 4.1 MB/s eta 0:00:01\n",
      "   ------- -------------------------------- 0.7/3.8 MB 4.1 MB/s eta 0:00:01\n",
      "   --------- ------------------------------ 0.9/3.8 MB 3.9 MB/s eta 0:00:01\n",
      "   ----------- ---------------------------- 1.1/3.8 MB 4.0 MB/s eta 0:00:01\n",
      "   -------------- ------------------------- 1.4/3.8 MB 4.2 MB/s eta 0:00:01\n",
      "   --------------- ------------------------ 1.5/3.8 MB 4.1 MB/s eta 0:00:01\n",
      "   ----------------- ---------------------- 1.7/3.8 MB 4.2 MB/s eta 0:00:01\n",
      "   -------------------- ------------------- 2.0/3.8 MB 4.3 MB/s eta 0:00:01\n",
      "   --------------------- ------------------ 2.0/3.8 MB 4.3 MB/s eta 0:00:01\n",
      "   ---------------------- ----------------- 2.1/3.8 MB 3.8 MB/s eta 0:00:01\n",
      "   ------------------------ --------------- 2.4/3.8 MB 4.0 MB/s eta 0:00:01\n",
      "   ------------------------- -------------- 2.4/3.8 MB 3.7 MB/s eta 0:00:01\n",
      "   --------------------------- ------------ 2.6/3.8 MB 3.8 MB/s eta 0:00:01\n",
      "   ---------------------------- ----------- 2.8/3.8 MB 3.8 MB/s eta 0:00:01\n",
      "   ------------------------------ --------- 2.9/3.8 MB 3.7 MB/s eta 0:00:01\n",
      "   -------------------------------- ------- 3.1/3.8 MB 3.7 MB/s eta 0:00:01\n",
      "   ---------------------------------- ----- 3.3/3.8 MB 3.8 MB/s eta 0:00:01\n",
      "   ------------------------------------ --- 3.5/3.8 MB 3.8 MB/s eta 0:00:01\n",
      "   ---------------------------------------  3.7/3.8 MB 3.9 MB/s eta 0:00:01\n",
      "   ---------------------------------------- 3.8/3.8 MB 3.8 MB/s eta 0:00:00\n",
      "Downloading typing_extensions-4.12.2-py3-none-any.whl (37 kB)\n",
      "Installing collected packages: typing-extensions, lxml, python-docx\n",
      "  Attempting uninstall: typing-extensions\n",
      "    Found existing installation: typing_extensions 4.8.0\n",
      "    Uninstalling typing_extensions-4.8.0:\n",
      "      Successfully uninstalled typing_extensions-4.8.0\n",
      "Successfully installed lxml-5.2.2 python-docx-1.1.2 typing-extensions-4.12.2\n",
      "Note: you may need to restart the kernel to use updated packages.\n"
     ]
    },
    {
     "name": "stderr",
     "output_type": "stream",
     "text": [
      "\n",
      "[notice] A new release of pip is available: 23.3.1 -> 24.1.2\n",
      "[notice] To update, run: python.exe -m pip install --upgrade pip\n"
     ]
    }
   ],
   "source": [
    "pip install python-docx\n"
   ]
  },
  {
   "cell_type": "code",
   "execution_count": 1,
   "metadata": {},
   "outputs": [],
   "source": [
    "from docx import Document\n",
    "from docx.shared import Pt\n",
    "from docx.enum.text import WD_PARAGRAPH_ALIGNMENT\n",
    "from docx.enum.section import WD_ORIENT\n",
    "\n",
    "# Create a new Document\n",
    "doc = Document()\n",
    "\n",
    "# Set page size to A4\n",
    "section = doc.sections[0]\n",
    "section.page_width = Pt(595.30)  # A4 width\n",
    "section.page_height = Pt(841.90)  # A4 height\n",
    "section.orientation = WD_ORIENT.PORTRAIT\n",
    "tit=input('enter title')\n",
    "# Add a title\n",
    "title = doc.add_heading(level=1)\n",
    "run = title.add_run(tit)\n",
    "run.bold = True\n",
    "run.font.size = Pt(24)\n",
    "title.alignment = WD_PARAGRAPH_ALIGNMENT.CENTER\n",
    "\n",
    "# Add authors\n",
    "aut=input('add authors and affiliations')\n",
    "authors = doc.add_paragraph()\n",
    "authors_run = authors.add_run(aut)\n",
    "authors_run.bold = True\n",
    "authors_run.font.size = Pt(10)\n",
    "authors.alignment = WD_PARAGRAPH_ALIGNMENT.CENTER\n",
    "\n",
    "# Add abstract\n",
    "abs=input('add abstract')\n",
    "abstract_header = doc.add_heading(level=2)\n",
    "abstract_header_run = abstract_header.add_run('Abstract')\n",
    "abstract_header_run.bold = True\n",
    "abstract_header_run.font.size = Pt(10)\n",
    "abstract = doc.add_paragraph()\n",
    "abstract_run = abstract.add_run(abs)\n",
    "abstract_run.font.size = Pt(10)\n",
    "fn=input('enterfilename with .docx')\n",
    "# Save the document\n",
    "doc.save(fn)\n",
    "\n",
    "#need to add proper formatting and all that...doc creation is perfect\n"
   ]
  }
 ],
 "metadata": {
  "kernelspec": {
   "display_name": "Python 3",
   "language": "python",
   "name": "python3"
  },
  "language_info": {
   "codemirror_mode": {
    "name": "ipython",
    "version": 3
   },
   "file_extension": ".py",
   "mimetype": "text/x-python",
   "name": "python",
   "nbconvert_exporter": "python",
   "pygments_lexer": "ipython3",
   "version": "3.11.5"
  }
 },
 "nbformat": 4,
 "nbformat_minor": 2
}
