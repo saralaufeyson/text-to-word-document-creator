{
 "cells": [
  {
   "cell_type": "code",
   "execution_count": null,
   "metadata": {},
   "outputs": [],
   "source": [
    "pip install python-docx\n"
   ]
  },
  {
   "cell_type": "code",
   "execution_count": 3,
   "metadata": {},
   "outputs": [
    {
     "name": "stdout",
     "output_type": "stream",
     "text": [
      "Collecting tk\n",
      "  Downloading tk-0.1.0-py3-none-any.whl.metadata (693 bytes)\n",
      "Downloading tk-0.1.0-py3-none-any.whl (3.9 kB)\n",
      "Installing collected packages: tk\n",
      "Successfully installed tk-0.1.0\n",
      "Note: you may need to restart the kernel to use updated packages.\n"
     ]
    },
    {
     "name": "stderr",
     "output_type": "stream",
     "text": [
      "\n",
      "[notice] A new release of pip is available: 23.3.1 -> 24.2\n",
      "[notice] To update, run: python.exe -m pip install --upgrade pip\n"
     ]
    }
   ],
   "source": [
    "pip install tk"
   ]
  },
  {
   "cell_type": "code",
   "execution_count": 5,
   "metadata": {},
   "outputs": [],
   "source": [
    "import tkinter as tk\n",
    "from tkinter import messagebox\n",
    "from docx import Document\n",
    "from docx.shared import Pt\n",
    "from docx.enum.text import WD_PARAGRAPH_ALIGNMENT\n",
    "\n",
    "def generate_ieee_doc():\n",
    "    try:\n",
    "        # Get input values from the user\n",
    "        title_text = title_entry.get()\n",
    "        authors_text = authors_entry.get()\n",
    "        abstract_text = abstract_entry.get(\"1.0\", \"end-1c\")  # Corrected variable name\n",
    "        filename = filename_entry.get()\n",
    "\n",
    "        if not filename.endswith('.docx'):\n",
    "            filename += '.docx'\n",
    "\n",
    "        # Create a new Document\n",
    "        doc = Document()\n",
    "\n",
    "        # Set margins (using points)\n",
    "        section = doc.sections[0]\n",
    "        section.left_margin = Pt(30)\n",
    "        section.right_margin = Pt(30)\n",
    "        section.top_margin = Pt(30)\n",
    "        section.bottom_margin = Pt(30)\n",
    "\n",
    "        # Add a title (centered)\n",
    "        title = doc.add_heading(level=1)\n",
    "        run = title.add_run(title_text)\n",
    "        run.bold = True\n",
    "        run.font.size = Pt(24)\n",
    "        title.alignment = WD_PARAGRAPH_ALIGNMENT.CENTER\n",
    "\n",
    "        # Add authors (centered)\n",
    "        authors = doc.add_paragraph()\n",
    "        authors_run = authors.add_run(authors_text)\n",
    "        authors_run.bold = True\n",
    "        authors_run.font.size = Pt(10)\n",
    "        authors.alignment = WD_PARAGRAPH_ALIGNMENT.CENTER\n",
    "\n",
    "        # Add abstract header\n",
    "        abstract_header = doc.add_heading(level=2)\n",
    "        abstract_header_run = abstract_header.add_run('Abstract')\n",
    "        abstract_header_run.bold = True\n",
    "        abstract_header_run.font.size = Pt(10)\n",
    "\n",
    "        # Add abstract text\n",
    "        abstract = doc.add_paragraph()\n",
    "        abstract_run = abstract.add_run(abstract_text)\n",
    "        abstract_run.font.size = Pt(10)\n",
    "\n",
    "        # Save the document\n",
    "        doc.save(filename)\n",
    "        messagebox.showinfo(\"Success\", f\"Document saved as {filename}\")\n",
    "\n",
    "    except Exception as e:\n",
    "        messagebox.showerror(\"Error\", f\"Failed to generate document: {e}\")\n",
    "\n",
    "# Create Tkinter window\n",
    "root = tk.Tk()\n",
    "root.title(\"IEEE Document Generator\")\n",
    "\n",
    "# Define Labels and Entry Fields\n",
    "tk.Label(root, text=\"Title:\").grid(row=0, column=0, padx=10, pady=5)\n",
    "title_entry = tk.Entry(root, width=50)\n",
    "title_entry.grid(row=0, column=1, padx=10, pady=5)\n",
    "\n",
    "tk.Label(root, text=\"Authors:\").grid(row=1, column=0, padx=10, pady=5)\n",
    "authors_entry = tk.Entry(root, width=50)\n",
    "authors_entry.grid(row=1, column=1, padx=10, pady=5)\n",
    "\n",
    "tk.Label(root, text=\"Abstract:\").grid(row=2, column=0, padx=10, pady=5)\n",
    "abstract_entry = tk.Text(root, width=50, height=10)  # Increased height for more space\n",
    "abstract_entry.grid(row=2, column=1, padx=10, pady=5)\n",
    "\n",
    "tk.Label(root, text=\"Filename:\").grid(row=3, column=0, padx=10, pady=5)\n",
    "filename_entry = tk.Entry(root, width=50)\n",
    "filename_entry.grid(row=3, column=1, padx=10, pady=5)\n",
    "\n",
    "# Generate Button\n",
    "generate_button = tk.Button(root, text=\"Generate IEEE Document\", command=generate_ieee_doc)\n",
    "generate_button.grid(row=4, columnspan=2, pady=10)\n",
    "\n",
    "# Run the Tkinter event loop\n",
    "root.mainloop()\n"
   ]
  },
  {
   "cell_type": "code",
   "execution_count": null,
   "metadata": {},
   "outputs": [],
   "source": []
  }
 ],
 "metadata": {
  "kernelspec": {
   "display_name": "Python 3",
   "language": "python",
   "name": "python3"
  },
  "language_info": {
   "codemirror_mode": {
    "name": "ipython",
    "version": 3
   },
   "file_extension": ".py",
   "mimetype": "text/x-python",
   "name": "python",
   "nbconvert_exporter": "python",
   "pygments_lexer": "ipython3",
   "version": "3.11.5"
  }
 },
 "nbformat": 4,
 "nbformat_minor": 2
}
